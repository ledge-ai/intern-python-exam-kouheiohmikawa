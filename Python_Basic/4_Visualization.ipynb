{
 "cells": [
  {
   "cell_type": "markdown",
   "metadata": {},
   "source": [
    "---\n",
    "# 課題4 - 可視化\n",
    "\n",
    "本課題で使用するデータは自動車に関わる様々な情報がまとめられたものです\n",
    "\n",
    "具体的なデータ項目は[こちら](https://www.kaggle.com/hellbuoy/car-price-prediction)を参照してください"
   ]
  },
  {
   "cell_type": "code",
   "execution_count": null,
   "metadata": {},
   "outputs": [],
   "source": [
    "# 最初にこのセルを実行してください  ################################\n",
    "# ライブラリインストール\n",
    "%matplotlib inline\n",
    "import numpy as np\n",
    "import pandas as pd\n",
    "import matplotlib.pyplot as plt\n",
    "import seaborn as sns\n",
    "\n",
    "pd.set_option('display.max_rows', None)\n",
    "pd.set_option('display.max_columns', None)\n",
    "\n",
    "# 使用するデータの読み込み\n",
    "df = pd.read_csv('../data/CarPrice_Assignment.csv')\n",
    "display(df.head())"
   ]
  },
  {
   "cell_type": "markdown",
   "metadata": {},
   "source": [
    "---\n",
    "課題1: 車の価格（price）のヒストグラムを作成せよ"
   ]
  },
  {
   "cell_type": "code",
   "execution_count": null,
   "metadata": {},
   "outputs": [],
   "source": [
    "# 以下よりコードを記入してください  ##############################\n"
   ]
  },
  {
   "cell_type": "markdown",
   "metadata": {},
   "source": [
    "---\n",
    "課題2: 車種ごとの駆動車輪（drivewheel）の数を集計し、棒グラフで表現せよ\n",
    "\n",
    "x軸のラベルは数が多い順に並び替えること"
   ]
  },
  {
   "cell_type": "code",
   "execution_count": null,
   "metadata": {},
   "outputs": [],
   "source": [
    "# 以下よりコードを記入してください  ##############################\n"
   ]
  },
  {
   "cell_type": "markdown",
   "metadata": {},
   "source": [
    "---\n",
    "課題3: 車種ごとの燃料タイプ（fueltype）の割合を円グラフで表現せよ\n",
    "\n",
    "ラベルや構成割合を図に記載すること"
   ]
  },
  {
   "cell_type": "code",
   "execution_count": null,
   "metadata": {},
   "outputs": [],
   "source": [
    "# 以下よりコードを記入してください  ##############################\n"
   ]
  },
  {
   "cell_type": "markdown",
   "metadata": {},
   "source": [
    "---\n",
    "課題4: 自動車の車体（carbody）の数を集計し、横棒グラフで表現せよ\n",
    "\n",
    "y軸のラベルは数が多い順に並べ替えること"
   ]
  },
  {
   "cell_type": "code",
   "execution_count": null,
   "metadata": {},
   "outputs": [],
   "source": [
    "# 以下よりコードを記入してください  ##############################\n"
   ]
  },
  {
   "cell_type": "markdown",
   "metadata": {},
   "source": [
    "---\n",
    "課題5: エンジンサイズ（enginesize）を対象とした箱ひげ図を作成せよ"
   ]
  },
  {
   "cell_type": "code",
   "execution_count": null,
   "metadata": {},
   "outputs": [],
   "source": [
    "# 以下よりコードを記入してください  ##############################\n"
   ]
  },
  {
   "cell_type": "markdown",
   "metadata": {},
   "source": [
    "---\n",
    "課題6: エンジンサイズ（enginesize）をx軸、車の価格（Price）をy軸とした散布図を作成せよ\n",
    "\n",
    "それぞれの軸ラベルに変数名を記載すること"
   ]
  },
  {
   "cell_type": "code",
   "execution_count": null,
   "metadata": {},
   "outputs": [],
   "source": [
    "# 以下よりコードを記入してください  ##############################\n"
   ]
  },
  {
   "cell_type": "markdown",
   "metadata": {},
   "source": [
    "---\n",
    "課題7: 車体の長さ（carlength）をx軸に、車体の幅（carwidth）をy軸にとり、車の車体（carbody）で色分けした散布図を作成せよ\n",
    "\n",
    "それぞれの軸ラベルに変数名を記載し、グラフ内に色の凡例を表示すること"
   ]
  },
  {
   "cell_type": "code",
   "execution_count": null,
   "metadata": {},
   "outputs": [],
   "source": [
    "# 以下よりコードを記入してください  ##############################\n"
   ]
  },
  {
   "cell_type": "markdown",
   "metadata": {},
   "source": [
    "---\n",
    "課題8: データから数値型の変数（car_IDを除く）の相関行列を作成せよ\n",
    "\n",
    "相関行列はヒートマップで作成し、図中に相関係数を表示すること。ヒートマップの色は問わない"
   ]
  },
  {
   "cell_type": "code",
   "execution_count": null,
   "metadata": {},
   "outputs": [],
   "source": [
    "# 以下よりコードを記入してください  ##############################\n"
   ]
  },
  {
   "cell_type": "markdown",
   "metadata": {},
   "source": [
    "---\n",
    "課題9: 上で得られた相関行列を参考に、車の価格（Price）に対する相関が高い変数を5つ選べ\n",
    "\n",
    "その変数と車の価格を合わせた計6変数において散布図行列を作成せよ"
   ]
  },
  {
   "cell_type": "code",
   "execution_count": null,
   "metadata": {},
   "outputs": [],
   "source": [
    "# 以下よりコードを記入してください  ##############################\n"
   ]
  },
  {
   "cell_type": "markdown",
   "metadata": {},
   "source": [
    "---\n",
    "課題10: 駆動車輪（drivewheel）ごとの車の価格（Price）のヒストグラムを作成せよ\n",
    "\n",
    "駆動車輪ごとに色を変えるなどして、駆動車輪に応じて車の価格帯がどのように分布するかわかりやすく表現せよ\n",
    "\n",
    "色彩は問わないが、凡例を併記すること"
   ]
  },
  {
   "cell_type": "code",
   "execution_count": null,
   "metadata": {},
   "outputs": [],
   "source": [
    "# 以下よりコードを記入してください  ##############################\n"
   ]
  },
  {
   "cell_type": "markdown",
   "metadata": {},
   "source": [
    "---\n",
    "課題11: 車種の駆動車輪（drivewheel）をx軸、駆動車輪ごとの車の価格（price）の平均値をy軸で表現した棒グラフを作成せよ"
   ]
  },
  {
   "cell_type": "code",
   "execution_count": null,
   "metadata": {},
   "outputs": [],
   "source": [
    "# 以下よりコードを記入してください  ##############################\n"
   ]
  },
  {
   "cell_type": "markdown",
   "metadata": {},
   "source": [
    "---\n",
    "課題12: 課題11と同じ内容を、データセットの文字列型変数全て（CarNameを除く全9変数）に適用せよ\n",
    "\n",
    "可視化にあたり、複数グラフを並列に表示し、一つの図として表現せよ\n",
    "\n",
    "配置は行方向に3つ、列方向に3つずつ並べること。並び順は問わない\n",
    "\n",
    "各グラフのタイトルに変数名を記載すること"
   ]
  },
  {
   "cell_type": "code",
   "execution_count": null,
   "metadata": {},
   "outputs": [],
   "source": [
    "# 以下よりコードを記入してください  ##############################\n"
   ]
  },
  {
   "cell_type": "markdown",
   "metadata": {},
   "source": [
    "---\n",
    "課題13: データから自分なりの仮説を立て、可視化することによりその仮説が正しいかどうか検証せよ\n",
    "\n",
    "仮説は自由に設定して構いません。自動車の販売価格に関係することでも良し、一般的と思われそうなことを確かめるでも良いです\n",
    "\n",
    "設定した仮説を提唱し、それを立証できるようなグラフを作成してみましょう。そのグラフを元に仮説検証してみましょう\n",
    "\n",
    "仮説の例として。。。\n",
    "\n",
    "- 車種（CarName）と価格は関係ありそう\n",
    "\n",
    "- 馬力（horsepower）とエンジンの大きさ（enginesize）は比例しそう\n",
    "\n",
    "- 車両重量（curbweight）と車の体積（長さと幅と高さから算出できる）との関係はどうなのか"
   ]
  },
  {
   "cell_type": "code",
   "execution_count": null,
   "metadata": {},
   "outputs": [],
   "source": [
    "# 以下よりコードを記入してください  ##############################\n"
   ]
  }
 ],
 "metadata": {
  "kernelspec": {
   "display_name": "Python 3",
   "language": "python",
   "name": "python3"
  },
  "language_info": {
   "codemirror_mode": {
    "name": "ipython",
    "version": 3
   },
   "file_extension": ".py",
   "mimetype": "text/x-python",
   "name": "python",
   "nbconvert_exporter": "python",
   "pygments_lexer": "ipython3",
   "version": "3.8.5"
  }
 },
 "nbformat": 4,
 "nbformat_minor": 4
}
