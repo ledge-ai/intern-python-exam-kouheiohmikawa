{
 "cells": [
  {
   "cell_type": "markdown",
   "metadata": {},
   "source": [
    "---\n",
    "# 課題1 - Python基礎文法"
   ]
  },
  {
   "cell_type": "markdown",
   "metadata": {},
   "source": [
    "---\n",
    "課題1: 48 + 29の計算をせよ（計算結果は「ans」に格納すること）"
   ]
  },
  {
   "cell_type": "code",
   "execution_count": 1,
   "metadata": {},
   "outputs": [
    {
     "name": "stdout",
     "output_type": "stream",
     "text": [
      "77\n"
     ]
    }
   ],
   "source": [
    "# 以下よりコードを記入してください  ##############################\n",
    "\n",
    "ans = 48+29\n",
    "# 出力  #################################################\n",
    "print(ans)"
   ]
  },
  {
   "cell_type": "markdown",
   "metadata": {},
   "source": [
    "---\n",
    "課題2: 63を11で割った余りを求めよ（計算結果は「ans」に格納すること）"
   ]
  },
  {
   "cell_type": "code",
   "execution_count": 2,
   "metadata": {},
   "outputs": [
    {
     "name": "stdout",
     "output_type": "stream",
     "text": [
      "8\n"
     ]
    }
   ],
   "source": [
    "# 以下よりコードを記入してください  ##############################\n",
    "ans = 63 % 11\n",
    "\n",
    "# 出力  #################################################\n",
    "print(ans)"
   ]
  },
  {
   "cell_type": "markdown",
   "metadata": {},
   "source": [
    "---\n",
    "課題3: 与えられたリスト「l」に対して、要素ごとの文字数が偶数のものと奇数のものを分けるプログラムを作成せよ\n",
    "\n",
    "偶数のものは「even」、奇数のものは「odd」に格納すること"
   ]
  },
  {
   "cell_type": "code",
   "execution_count": 3,
   "metadata": {},
   "outputs": [
    {
     "name": "stdout",
     "output_type": "stream",
     "text": [
      "Even:  ['so', 'cool', 'data']\n",
      "Odd:  ['you', 'are', 'scientist']\n"
     ]
    }
   ],
   "source": [
    "l = ['you', 'are', 'so', 'cool', 'data', 'scientist']\n",
    "even = [] # 偶数\n",
    "odd = []  # 奇数\n",
    "\n",
    "# 以下よりコードを記入してください  ##############################\n",
    "for i in range(6):\n",
    "    if len(l[i]) %2 == 0:\n",
    "        even.append(l[i])\n",
    "    else:\n",
    "        odd.append(l[i])\n",
    "\n",
    "# 出力  #################################################\n",
    "print('Even: ', even)\n",
    "print('Odd: ', odd)"
   ]
  },
  {
   "cell_type": "markdown",
   "metadata": {},
   "source": [
    "---\n",
    "課題4: FuzzBuzz問題\n",
    "\n",
    "1~50の数値で、4で割り切れる場合は「Fuzz」、9で割り切れる場合は「Buzz」、両者で割り切れる場合は「FuzzBuzz」に変換し、リスト「ans_list」に格納せよ\n",
    "\n",
    "なお、上記条件に当てはまらないものは元の数値のまま格納すること"
   ]
  },
  {
   "cell_type": "code",
   "execution_count": 3,
   "metadata": {},
   "outputs": [
    {
     "name": "stdout",
     "output_type": "stream",
     "text": [
      "[1, 2, 3, 'Fuzz', 5, 6, 7, 'Fuzz', 'Buzz', 10, 11, 'Fuzz', 13, 14, 15, 'Fuzz', 17, 'Buzz', 19, 'Fuzz', 21, 22, 23, 'Fuzz', 25, 26, 'Buzz', 'Fuzz', 29, 30, 31, 'Fuzz', 33, 34, 35, 'FuzzBuzz', 37, 38, 39, 'Fuzz', 41, 42, 43, 'Fuzz', 'Buzz', 46, 47, 'Fuzz', 49, 50]\n"
     ]
    }
   ],
   "source": [
    "ans_list = []\n",
    "\n",
    "# 以下よりコードを記入してください  ##############################\n",
    "for i in range(1,51):\n",
    "    if i % 36 == 0:\n",
    "        ans_list.append(\"FuzzBuzz\")\n",
    "    elif i % 4 == 0:\n",
    "        ans_list.append(\"Fuzz\")\n",
    "    elif i % 9 == 0:\n",
    "        ans_list.append(\"Buzz\")\n",
    "    else:\n",
    "        ans_list.append(i)\n",
    "        \n",
    "# 出力  #################################################\n",
    "print(ans_list)"
   ]
  },
  {
   "cell_type": "markdown",
   "metadata": {},
   "source": [
    "---\n",
    "課題5: 素数判定プログラムを作成し、5桁の素数で最も大きいものを出力せよ（回答結果は「ans」に格納すること）"
   ]
  },
  {
   "cell_type": "code",
   "execution_count": 1,
   "metadata": {},
   "outputs": [
    {
     "name": "stdout",
     "output_type": "stream",
     "text": [
      "99991\n"
     ]
    }
   ],
   "source": [
    "# 以下よりコードを記入してください  ##############################\n",
    "def calc(N):\n",
    "    ans_list = range(2, N+1)\n",
    "    \n",
    "    for i in range(2,int(N ** 0.5) + 1):\n",
    "        ans_list = [a for a in ans_list if (a == i or a % i != 0) ]\n",
    "    \n",
    "    return max(ans_list)\n",
    "\n",
    "ans = calc(100000)\n",
    "\n",
    "# 出力  #################################################\n",
    "print(ans)"
   ]
  },
  {
   "cell_type": "markdown",
   "metadata": {},
   "source": [
    "---\n",
    "課題6: [フィボナッチ数列](https://ja.wikipedia.org/wiki/%E3%83%95%E3%82%A3%E3%83%9C%E3%83%8A%E3%83%83%E3%83%81%E6%95%B0)\n",
    "\n",
    "1~100,000までの整数の範囲のフィボナッチ数列を表示せよ\n",
    "\n",
    "数列はリスト型で作成し、変数名は「Fibonacci」とすること"
   ]
  },
  {
   "cell_type": "code",
   "execution_count": 6,
   "metadata": {},
   "outputs": [
    {
     "name": "stdout",
     "output_type": "stream",
     "text": [
      "[0, 1, 1, 2, 3, 5, 8, 13, 21, 34, 55, 89, 144, 233, 377, 610, 987, 1597, 2584, 4181, 6765, 10946, 17711, 28657, 46368, 75025]\n"
     ]
    }
   ],
   "source": [
    "Fibonacci = [0, 1]\n",
    "# 以下よりコードを記入してください  ##############################\n",
    "i = 0\n",
    "while max(Fibonacci) <= 100000:\n",
    "    a = Fibonacci[i] + Fibonacci[i+1]\n",
    "    i += 1\n",
    "    Fibonacci.append(a)\n",
    "\n",
    "Fibonacci.pop(-1)\n",
    "   \n",
    "# 出力  #################################################\n",
    "print(Fibonacci)"
   ]
  },
  {
   "cell_type": "markdown",
   "metadata": {},
   "source": [
    "---\n",
    "課題7: [完全数](https://ja.wikipedia.org/wiki/%E5%AE%8C%E5%85%A8%E6%95%B0)を見つけてみよう\n",
    "\n",
    "完全数を判定するプログラムを作成せよ。そのプログラムを元に1 ~ 10,000以下の範囲にある完全数を出力せよ。\n",
    "\n",
    "※完全数とは、自分自身を除く正の約数の和に等しくなる自然数のことである。\n",
    "\n",
    "例： 「6」： 素因数分解すると、6 = 1 * 2 * 3となる。この素因数をすべて足すと、元の「6」と等しくなる\n",
    "\n",
    "回答はリスト型で作成し、変数名は「PerfectNumbers」とすること"
   ]
  },
  {
   "cell_type": "code",
   "execution_count": 7,
   "metadata": {},
   "outputs": [
    {
     "name": "stdout",
     "output_type": "stream",
     "text": [
      "[6, 28, 496, 8128]\n"
     ]
    }
   ],
   "source": [
    "PerfectNumbers = []\n",
    "# 以下よりコードを記入してください  ##############################\n",
    "def div_sum(n):\n",
    "    sum = 0 \n",
    "    for d in range(1, n + 1): \n",
    "        if n % d == 0: \n",
    "            sum += d \n",
    "    return sum\n",
    "\n",
    "l = 10000\n",
    "for i in range(1, l + 1):\n",
    "    if div_sum(i) == 2 * i:\n",
    "        PerfectNumbers.append(i)\n",
    "# 出力  #################################################\n",
    "print(PerfectNumbers)"
   ]
  },
  {
   "cell_type": "markdown",
   "metadata": {},
   "source": [
    "---\n",
    "課題８: オリジナルのプログラムを実装してみよう\n",
    "\n",
    "自分のアイデアを活かしたプログラムを自由に作成せよ\n",
    "\n",
    "プログラムの説明（どういうプログラムなのか）と実装コード、および出力結果を記載すること\n",
    "\n",
    "工夫した点などが記載されていると尚良い\n",
    "\n",
    "アイデア例として、\n",
    "\n",
    "- 特殊な性質を持つ整数を出力するプログラム： 「友愛数」・「カプレカ数」など\n",
    "\n",
    "- 数学的に有名な数列を出力するプログラム： 「パスカルの三角形」など\n",
    "\n",
    "- 日常的に使えそうなプログラム: 「日付を入力すると曜日を算出する」"
   ]
  },
  {
   "cell_type": "code",
   "execution_count": 5,
   "metadata": {},
   "outputs": [
    {
     "data": {
      "text/plain": [
       "[[220, 284], [1184, 1210]]"
      ]
     },
     "execution_count": 5,
     "metadata": {},
     "output_type": "execute_result"
    }
   ],
   "source": [
    "# 以下よりコードを記入してください  ##############################\n",
    "def div_sum(p):\n",
    "    return sum([n for n in range(1,p) if p % n == 0])\n",
    "\n",
    "def Fraternity(min, max):\n",
    "    Fraternity_list = []\n",
    "    for n in range(min, max + 1):\n",
    "        div = div_sum(n)\n",
    "        if n == div_sum(div) and n != div:\n",
    "            m = sorted([n,div])\n",
    "            if not Fraternity_list.count(m):\n",
    "                Fraternity_list.append(m)\n",
    "    return Fraternity_list\n",
    "\n",
    "Fraternity(1, 2000)"
   ]
  },
  {
   "cell_type": "code",
   "execution_count": null,
   "metadata": {},
   "outputs": [],
   "source": [
    "Fraternity"
   ]
  }
 ],
 "metadata": {
  "kernelspec": {
   "display_name": "Python 3",
   "language": "python",
   "name": "python3"
  },
  "language_info": {
   "codemirror_mode": {
    "name": "ipython",
    "version": 3
   },
   "file_extension": ".py",
   "mimetype": "text/x-python",
   "name": "python",
   "nbconvert_exporter": "python",
   "pygments_lexer": "ipython3",
   "version": "3.8.5"
  }
 },
 "nbformat": 4,
 "nbformat_minor": 4
}
