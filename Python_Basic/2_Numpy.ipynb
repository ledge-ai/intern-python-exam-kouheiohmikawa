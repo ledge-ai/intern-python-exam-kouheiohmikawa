{
 "cells": [
  {
   "cell_type": "markdown",
   "metadata": {},
   "source": [
    "---\n",
    "# 課題2 - Numpy"
   ]
  },
  {
   "cell_type": "code",
   "execution_count": null,
   "metadata": {},
   "outputs": [],
   "source": [
    "# ライブラリインストール\n",
    "import numpy as np\n",
    "import scipy\n",
    "import itertools"
   ]
  },
  {
   "cell_type": "markdown",
   "metadata": {},
   "source": [
    "---\n",
    "課題1: 0から9までの一次元の配列を作成せよ（変数名は「arr」）"
   ]
  },
  {
   "cell_type": "code",
   "execution_count": null,
   "metadata": {},
   "outputs": [],
   "source": [
    "# 以下よりコードを記入してください  ##############################\n",
    "\n",
    "\n",
    "# 出力  #################################################\n",
    "print(arr)"
   ]
  },
  {
   "cell_type": "markdown",
   "metadata": {},
   "source": [
    "---\n",
    "課題2: 上で求めた「arr」を2×5の配列に変換せよ（変数名は「arr_2」）"
   ]
  },
  {
   "cell_type": "code",
   "execution_count": null,
   "metadata": {},
   "outputs": [],
   "source": [
    "# 以下よりコードを記入してください  ##############################\n",
    "\n",
    "\n",
    "# 出力  #################################################\n",
    "print(arr_2)\n",
    "print('#'*30)\n",
    "print(arr_2.shape)"
   ]
  },
  {
   "cell_type": "markdown",
   "metadata": {},
   "source": [
    "---\n",
    "課題3: 上で求めた「arr_2」に対して転置を行い、5×2の配列に変換せよ（変数名は「arr_3」）"
   ]
  },
  {
   "cell_type": "code",
   "execution_count": null,
   "metadata": {},
   "outputs": [],
   "source": [
    "# 以下よりコードを記入してください  ##############################\n",
    "\n",
    "\n",
    "# 出力  #################################################\n",
    "print(arr_3)\n",
    "print('#'*30)\n",
    "print(arr_3.shape)"
   ]
  },
  {
   "cell_type": "markdown",
   "metadata": {},
   "source": [
    "---\n",
    "課題4: 上で求めた「arr_2」と「arr_3」の積を求めよ（変数名は「arr_4」）"
   ]
  },
  {
   "cell_type": "code",
   "execution_count": null,
   "metadata": {},
   "outputs": [],
   "source": [
    "# 以下よりコードを記入してください  ##############################\n",
    "\n",
    "\n",
    "# 出力  #################################################\n",
    "print(arr_4)"
   ]
  },
  {
   "cell_type": "markdown",
   "metadata": {},
   "source": [
    "---\n",
    "課題5: 上で求めた「arr_4」に対して、要素の値が100以上の場合は「1」、100以下の場合は元の数値となるように変換せよ\n",
    "\n",
    "（変数名は「arr_5」）"
   ]
  },
  {
   "cell_type": "code",
   "execution_count": null,
   "metadata": {},
   "outputs": [],
   "source": [
    "# 以下よりコードを記入してください  ##############################\n",
    "\n",
    "\n",
    "# 出力  #################################################\n",
    "print(arr_5)"
   ]
  },
  {
   "cell_type": "markdown",
   "metadata": {},
   "source": [
    "---\n",
    "課題6: 上で求めた「arr_5」に対して、1次元の配列に変換せよ（変数名は「arr_6」）"
   ]
  },
  {
   "cell_type": "code",
   "execution_count": null,
   "metadata": {},
   "outputs": [],
   "source": [
    "# 以下よりコードを記入してください  ##############################\n",
    "\n",
    "\n",
    "# 出力  #################################################\n",
    "print(arr_6)"
   ]
  },
  {
   "cell_type": "markdown",
   "metadata": {},
   "source": [
    "---\n",
    "課題7: 上で求めた「arr_6」に対して、降順にソートせよ（変数名は「arr_7」）"
   ]
  },
  {
   "cell_type": "code",
   "execution_count": null,
   "metadata": {},
   "outputs": [],
   "source": [
    "# 以下よりコードを記入してください  ##############################\n",
    "\n",
    "\n",
    "# 出力  #################################################\n",
    "print(arr_7)"
   ]
  },
  {
   "cell_type": "markdown",
   "metadata": {},
   "source": [
    "---\n",
    "課題8: 平均0, 標準偏差1の乱数で構成される10×10の配列「A」と、平均0, 標準偏差2の乱数で構成される10×10の配列「B」を生成せよ\n",
    "\n",
    "（変数名はそれぞれ「A」, 「B」）"
   ]
  },
  {
   "cell_type": "code",
   "execution_count": null,
   "metadata": {},
   "outputs": [],
   "source": [
    "# 以下よりコードを記入してください  ##############################\n",
    "\n",
    "\n",
    "# 出力  #################################################\n",
    "print(A)\n",
    "print('#'*30)\n",
    "print(B)\n",
    "print('#'*30)"
   ]
  },
  {
   "cell_type": "markdown",
   "metadata": {},
   "source": [
    "---\n",
    "課題9: 上で得られた「A」, 「B」を連結し、10×20の配列「C」, 2×10×10の配列「D」を生成せよ\n",
    "\n",
    "（10×20の配列は「C」, 2×10×10の配列は「D」という変数名にせよ）"
   ]
  },
  {
   "cell_type": "code",
   "execution_count": null,
   "metadata": {},
   "outputs": [],
   "source": [
    "# 以下よりコードを記入してください  ##############################\n",
    "\n",
    "\n",
    "# 出力  #################################################\n",
    "print(C.shape)\n",
    "print(D.shape)"
   ]
  },
  {
   "cell_type": "markdown",
   "metadata": {},
   "source": [
    "---\n",
    "課題10: 上で得られた「C」に対して、全ての要素における「最大値」, 「最小値」, 「平均値」, 「中央値」, 「第1四分位数」, 「第3四分位数」を求めよ\n",
    "\n",
    "それぞれ「C_max」, 「C_min」, 「C_mean」, 「C_median」, 「C_quartile_1」, 「C_quartile_3」という変数に格納すること"
   ]
  },
  {
   "cell_type": "code",
   "execution_count": null,
   "metadata": {},
   "outputs": [],
   "source": [
    "# 以下よりコードを記入してください  ##############################\n",
    "\n",
    "\n",
    "# 出力  #################################################\n",
    "print(C_max)\n",
    "print(C_min)\n",
    "print(C_mean)\n",
    "print(C_median)\n",
    "print(C_quartile_1)\n",
    "print(C_quartile_3)"
   ]
  },
  {
   "cell_type": "markdown",
   "metadata": {},
   "source": [
    "---\n",
    "課題11: 課題8で得られた「A」「B」それぞれの行列式を算出せよ\n",
    "\n",
    "（変数名はそれぞれ「det_A」, 「det_B」）"
   ]
  },
  {
   "cell_type": "code",
   "execution_count": null,
   "metadata": {},
   "outputs": [],
   "source": [
    "# 以下よりコードを記入してください  ##############################\n",
    "\n",
    "\n",
    "# 出力  #################################################\n",
    "print(det_A)\n",
    "print(det_B)"
   ]
  },
  {
   "cell_type": "markdown",
   "metadata": {},
   "source": [
    "---\n",
    "課題12: 上で求めた行列式はA, Bを生成した際に指定した平均と標準偏差の値によって大きく変わる可能性がある\n",
    "\n",
    "平均：（-5 ~ +5；1刻み）の範囲で、標準偏差：（0 ~ +1；0.1刻み）の範囲で行列式が0以上になる組み合わせを出力せよ\n",
    "\n",
    "組み合わせは（平均, 標準偏差）のタプルで表現すること"
   ]
  },
  {
   "cell_type": "code",
   "execution_count": null,
   "metadata": {},
   "outputs": [],
   "source": [
    "# 以下よりコードを記入してください  ##############################\n"
   ]
  },
  {
   "cell_type": "markdown",
   "metadata": {},
   "source": [
    "---\n",
    "課題13: 次の連立方程式を逆行列を用いて算出せよ\n",
    "\n",
    "回答はそれぞれ「x」, 「y」に格納すること\n",
    "\n",
    "\\begin{eqnarray*}\n",
    "\\ 3x + 6y = 18\n",
    "\\\\\n",
    "\\ 2x + 2y = 10\n",
    "\\end{eqnarray*}\n"
   ]
  },
  {
   "cell_type": "code",
   "execution_count": null,
   "metadata": {},
   "outputs": [],
   "source": [
    "# 以下よりコードを記入してください  ##############################\n",
    "\n",
    "\n",
    "# 出力  #################################################\n",
    "print('x =', x)\n",
    "print('y =', y)"
   ]
  },
  {
   "cell_type": "markdown",
   "metadata": {},
   "source": [
    "---\n",
    "課題14: 次の連立方程式を逆行列を用いて算出せよ\n",
    "\n",
    "回答はそれぞれ「x」, 「y」, 「z」に格納すること\n",
    "\n",
    "\\begin{eqnarray*}\n",
    "\\ 2x + 4y + 8z = 42\n",
    "\\\\\n",
    "\\ 3x + 7y + 5z = 28\n",
    "\\\\\n",
    "\\ 7x + 2y + 3z = 63\n",
    "\\end{eqnarray*}\n"
   ]
  },
  {
   "cell_type": "code",
   "execution_count": null,
   "metadata": {},
   "outputs": [],
   "source": [
    "# 以下よりコードを記入してください  ##############################\n",
    "\n",
    "\n",
    "# 出力  #################################################\n",
    "print('x =', x)\n",
    "print('y =', y)\n",
    "print('z =', z)"
   ]
  },
  {
   "cell_type": "code",
   "execution_count": null,
   "metadata": {},
   "outputs": [],
   "source": []
  }
 ],
 "metadata": {
  "kernelspec": {
   "display_name": "Python 3",
   "language": "python",
   "name": "python3"
  },
  "language_info": {
   "codemirror_mode": {
    "name": "ipython",
    "version": 3
   },
   "file_extension": ".py",
   "mimetype": "text/x-python",
   "name": "python",
   "nbconvert_exporter": "python",
   "pygments_lexer": "ipython3",
   "version": "3.8.5"
  }
 },
 "nbformat": 4,
 "nbformat_minor": 4
}
