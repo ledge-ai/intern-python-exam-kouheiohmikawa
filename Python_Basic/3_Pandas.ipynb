{
 "cells": [
  {
   "cell_type": "markdown",
   "metadata": {},
   "source": [
    "---\n",
    "# 課題3 - Pandas"
   ]
  },
  {
   "cell_type": "code",
   "execution_count": null,
   "metadata": {},
   "outputs": [],
   "source": [
    "# ライブラリのインストール\n",
    "import pandas as pd\n",
    "import numpy as np"
   ]
  },
  {
   "cell_type": "markdown",
   "metadata": {},
   "source": [
    "---\n",
    "課題0： 0から9までの一次元の配列を値に、a-jをインデックスとしてSeriesを作成せよ（変数名はsr）"
   ]
  },
  {
   "cell_type": "code",
   "execution_count": null,
   "metadata": {},
   "outputs": [],
   "source": [
    "# 以下よりコードを記入してください  ##############################\n",
    "\n",
    "\n",
    "# 出力  #################################################\n",
    "display(sr)"
   ]
  },
  {
   "cell_type": "markdown",
   "metadata": {},
   "source": [
    "---\n",
    "課題1： sample_dictをDataFrameに変換せよ\n",
    "\n",
    "その際に\"a, b, c, d, e\"をインデックスとして追加すること（変数名はdf_1）"
   ]
  },
  {
   "cell_type": "code",
   "execution_count": null,
   "metadata": {},
   "outputs": [],
   "source": [
    "sample_dict = {'ID':['100','101','102','103','104'],\n",
    "               'City':['Tokyo','Osaka','Kyoto','Hokkaido','Tokyo'],\n",
    "               'Birth_year':[1990,1989,1992,1997,1982],\n",
    "               'Name':['Hiroshi','Akiko','Yuki','Satoru','Steve']}\n",
    "# 以下よりコードを記入してください  ##############################\n",
    "\n",
    "\n",
    "# 出力  #################################################\n",
    "display(df_1)"
   ]
  },
  {
   "cell_type": "markdown",
   "metadata": {},
   "source": [
    "---\n",
    "課題2： df_1を転置して出力せよ（変数名はdf_2）"
   ]
  },
  {
   "cell_type": "code",
   "execution_count": null,
   "metadata": {},
   "outputs": [],
   "source": [
    "# 以下よりコードを記入してください  ##############################\n",
    "\n",
    "\n",
    "# 出力  #################################################\n",
    "display(df_2)"
   ]
  },
  {
   "cell_type": "markdown",
   "metadata": {},
   "source": [
    "---\n",
    "課題3： df_1からBirth_yearとIDのカラムの値を取り出しDataFrameとして出力せよ（変数名はdf_3）\n",
    "\n",
    "またBirth_yearのカラムのみを取り出した場合の変数のタイプを出力せよ（変数名は by_type)"
   ]
  },
  {
   "cell_type": "code",
   "execution_count": null,
   "metadata": {},
   "outputs": [],
   "source": [
    "# 以下よりコードを記入してください  ##############################\n",
    "\n",
    "\n",
    "# 出力  #################################################\n",
    "display(df_3)\n",
    "print(by_type)"
   ]
  },
  {
   "cell_type": "markdown",
   "metadata": {},
   "source": [
    "---\n",
    "課題4： df_1から'City'が'Tokyo'のデータを取り出して出力せよ（変数名はdf_4_1）\n",
    "\n",
    "また'City'が'Tokyo'もしくは'Osaka'のデータを取り出して出力せよ（変数名はdf_4_2）"
   ]
  },
  {
   "cell_type": "code",
   "execution_count": null,
   "metadata": {},
   "outputs": [],
   "source": [
    "# 以下よりコードを記入してください  ##############################\n",
    "\n",
    "\n",
    "# 出力  #################################################\n",
    "display(df_4_1)\n",
    "display(df_4_2)"
   ]
  },
  {
   "cell_type": "markdown",
   "metadata": {},
   "source": [
    "---\n",
    "課題5： sample_dict_2とsample_dict_3をDataFrameに変換し、\n",
    "- idをキーに内部結合（変数名はdf_5_1）\n",
    "- 全結合（変数名はdf_5_2)\n",
    "- 左外部結合（変数名はdf_5_3)\n",
    "\n",
    "上記3つの結合結果を表示せよ"
   ]
  },
  {
   "cell_type": "code",
   "execution_count": null,
   "metadata": {},
   "outputs": [],
   "source": [
    "sample_dict_2 = {\n",
    "    'id': ['100', '101', '102', '103', '104', '106', '108', '110', '111', ' 113'],\n",
    "    'city': ['Tokyo', 'Osaka', 'Kyoto', 'Hokkaido', 'Tokyo', 'Tokyo', 'Osaka', 'Kyoto', 'Hokkaido', 'Tokyo'],\n",
    "    'birth_year': [1990, 1989, 1992, 1997, 1982, 1991, 1988, 1990, 1995, 1981],\n",
    "    'name': ['Hiroshi', 'Akiko', 'Yuki', 'Satoru', 'Steeve', 'Mituru', 'Aoi', 'Tarou', 'Suguru', 'Mitsuo']\n",
    "}\n",
    "sample_dict_3 =  {\n",
    "    'id': ['100', '101', '102', '105', '107'],\n",
    "    'math': [50, 43, 33, 76, 98],\n",
    "    'english': [90, 30, 20, 50, 30],\n",
    "    'sex': ['M', 'F', 'F', 'M', 'M'], \n",
    "    'index_num': [0, 1, 2, 3, 4]\n",
    "}\n",
    "# 以下よりコードを記入してください  ##############################\n",
    "\n",
    "\n",
    "# 出力  #################################################\n",
    "display(df_5_1)\n",
    "display(df_5_2)\n",
    "display(df_5_3)"
   ]
  },
  {
   "cell_type": "markdown",
   "metadata": {},
   "source": [
    "---\n",
    "課題6： sample_df_1のデータに対してCityごとにデータ数をカウントせよ（変数名はdf_6_1）\n",
    "\n",
    "また、cityごとのbirth_yearの平均値を求めよ（変数名はdf_6_2）\n",
    "\n",
    "※出力はDataFrame指定"
   ]
  },
  {
   "cell_type": "code",
   "execution_count": null,
   "metadata": {},
   "outputs": [],
   "source": [
    "# 以下よりコードを記入してください  ##############################\n",
    "\n",
    "\n",
    "# 出力  #################################################\n",
    "display(df_6_1)\n",
    "display(df_6_2)"
   ]
  },
  {
   "cell_type": "markdown",
   "metadata": {},
   "source": [
    "---\n",
    "課題7： \n",
    "- nan_dfの欠損値のある行をすべて取り除き出力せよ（変数名はdf_7_1）\n",
    "- nan_dfの欠損値を各カラムの平均値で埋めて出力せよ（変数名はdf_7_2）"
   ]
  },
  {
   "cell_type": "code",
   "execution_count": null,
   "metadata": {},
   "outputs": [],
   "source": [
    "nan_df = pd.DataFrame(np.random.rand(10,4))\n",
    "nan_df.iloc[1, 0] = np.nan\n",
    "nan_df.iloc[2:4, 3] = np.nan\n",
    "nan_df.iloc[5:, 2] = np.nan\n",
    "# 以下よりコードを記入してください  ##############################\n",
    "\n",
    "\n",
    "# 出力  #################################################\n",
    "display(df_7_1)\n",
    "display(df_7_2)"
   ]
  },
  {
   "cell_type": "markdown",
   "metadata": {},
   "source": [
    "---\n",
    "課題8： \n",
    "- sample_df_2に接頭辞「1_」を付けて出力せよ（変数名はdf_8_1）\n",
    "- sample_df_2に接尾辞「_z」を付けて出力せよ（変数名はdf_8_2）"
   ]
  },
  {
   "cell_type": "code",
   "execution_count": null,
   "metadata": {},
   "outputs": [],
   "source": [
    "# 以下よりコードを記入してください  ##############################\n",
    "\n",
    "\n",
    "# 出力  #################################################\n",
    "display(df_8_1)\n",
    "display(df_8_2)"
   ]
  },
  {
   "cell_type": "markdown",
   "metadata": {},
   "source": [
    "---\n",
    "課題9： sample_df_2のidをfloatに変換し、birth_yearはintに変換しsample_df_2から数値タイプのカラムのみを取り出せ（変数名はdf_9）\n",
    "\n",
    "※カラム名を直接指定するのはNG"
   ]
  },
  {
   "cell_type": "code",
   "execution_count": null,
   "metadata": {},
   "outputs": [],
   "source": [
    "# 以下よりコードを記入してください  ##############################\n",
    "\n",
    "\n",
    "# 出力  #################################################\n",
    "display(df_9)"
   ]
  },
  {
   "cell_type": "markdown",
   "metadata": {},
   "source": [
    "---\n",
    "課題10： numeric_dfを行方向に7対3に分割し、DataFrameの行数、列数がわかるように出力せよ（変数名はdf_10_1, df_10_2）\n",
    "\n",
    "※ただしdf_10_1の方がdf_10_2よりも行数が多くなるように設定せよ"
   ]
  },
  {
   "cell_type": "code",
   "execution_count": null,
   "metadata": {},
   "outputs": [],
   "source": [
    "numeric_df = pd.DataFrame(np.random.randint(1,100, (20,7)))\n",
    "# 以下よりコードを記入してください  ##############################\n",
    "\n",
    "\n",
    "# 出力  #################################################\n",
    "print(df_10_1.shape)\n",
    "print(df_10_2.shape)"
   ]
  },
  {
   "cell_type": "markdown",
   "metadata": {},
   "source": [
    "---\n",
    "課題11： age_dfの'age'カラムの値に対して'age_group'カラムを追加して、\n",
    "\n",
    "- 0 ~ 18までを'kids'\n",
    "- 19 ~ 65までを'adult'\n",
    "- 65 ~ 99までを'elderly'\n",
    "\n",
    "と分類し表示せよ（変数名はage_df）"
   ]
  },
  {
   "cell_type": "code",
   "execution_count": null,
   "metadata": {},
   "outputs": [],
   "source": [
    "age_df = numeric_df.rename(columns={0: 'age'}, inplace=False)\n",
    "# 以下よりコードを記入してください  ##############################\n",
    "\n",
    "\n",
    "# 出力  #################################################\n",
    "display(age_df)"
   ]
  },
  {
   "cell_type": "markdown",
   "metadata": {},
   "source": [
    "---\n",
    "課題12： name_dictをDataFrameに変換し以下の二つの条件を満たすDataFrameを出力せよ（変数名はname_df）\n",
    "- 'name'の値はfirst,middle,lastに分割し、それぞれを個別のカラムに格納してname_dfに追加\n",
    "- 'location'の\",\"より前の値をcityカラムに格納してname_dfに追加"
   ]
  },
  {
   "cell_type": "code",
   "execution_count": null,
   "metadata": {},
   "outputs": [],
   "source": [
    "name_dict = {\"name\":[\"John Artur Doe\", \"Jane Ann Smith\", \"Nico P\"], \n",
    "     \"location\":[\"Los Angeles, CA\", \"Washington, DC\", \"Barcelona, Spain\"]}\n",
    "# 以下よりコードを記入してください  ##############################\n",
    "\n",
    "\n",
    "# 出力  #################################################\n",
    "display(name_df)"
   ]
  },
  {
   "cell_type": "markdown",
   "metadata": {},
   "source": [
    "---\n",
    "課題13： data/CarPrice_Assignment.csvを読み込み 'CarName'のトップ3をlistで出力し、その値を持つデータを取り出して出力せよ\n",
    "\n",
    "（変数名はそれぞれlist_13, df_13）"
   ]
  },
  {
   "cell_type": "code",
   "execution_count": null,
   "metadata": {},
   "outputs": [],
   "source": [
    "# データの読み込み\n",
    "car_price_assign_df = pd.read_csv('../data/CarPrice_Assignment.csv')"
   ]
  },
  {
   "cell_type": "code",
   "execution_count": null,
   "metadata": {},
   "outputs": [],
   "source": [
    "# 以下よりコードを記入してください  ##############################\n",
    "\n",
    "\n",
    "# 出力  #################################################\n",
    "display(list_13)\n",
    "display(df_13)"
   ]
  },
  {
   "cell_type": "markdown",
   "metadata": {},
   "source": [
    "---\n",
    "課題14： car_price_assign_dfの'carbody'に対して頻出度10以下を'others'に置き換えて出力せよ。以下の変数で対応する値を出力せよ。\n",
    "- frequencies: car_price_assign_dfの'carbody'の値と出現回数\n",
    "- small_categories: 閾値10回に満たない'carbody'の値と出現回数\n",
    "- others_freq: othersに置き換えた後の'carbody'の値と出現回数"
   ]
  },
  {
   "cell_type": "code",
   "execution_count": null,
   "metadata": {},
   "outputs": [],
   "source": [
    "# 以下よりコードを記入してください  ##############################\n",
    "\n",
    "\n",
    "# 出力  #################################################\n",
    "print(frequencies)\n",
    "print('#' * 20)\n",
    "print(small_categories)\n",
    "print('#' * 20)\n",
    "print(others_freq)"
   ]
  },
  {
   "cell_type": "markdown",
   "metadata": {},
   "source": [
    "---\n",
    "課題15： 自分で好きなデータセットを作成 or 取得してきてデータ分析してみよう。\n",
    "- 使用したデータ\n",
    "- データからどんなことが言えそうか？（考察）\n",
    "- 考察に対してどうやってアプローチしたか？（仮説などもあると良い）\n",
    "\n",
    "参考サイト[Kaggle Dataset](https://www.kaggle.com/datasets)などから取ってくると良いと思います。\n",
    "\n",
    "データセットの探し方がわからない場合は適宜メンターに聞いてみてください。\n",
    "\n",
    "例えば、[タイタニック号沈没事故に関するデータ](https://www.kaggle.com/c/titanic/overview)の場合\n",
    "- 乗客の生存率に大きく影響のありそうなデータは何か？\n",
    "- どういう前処理をすると良さそうか？\n",
    "\n",
    "などなど"
   ]
  },
  {
   "cell_type": "code",
   "execution_count": null,
   "metadata": {},
   "outputs": [],
   "source": []
  }
 ],
 "metadata": {
  "kernelspec": {
   "display_name": "Python 3",
   "language": "python",
   "name": "python3"
  },
  "language_info": {
   "codemirror_mode": {
    "name": "ipython",
    "version": 3
   },
   "file_extension": ".py",
   "mimetype": "text/x-python",
   "name": "python",
   "nbconvert_exporter": "python",
   "pygments_lexer": "ipython3",
   "version": "3.8.5"
  }
 },
 "nbformat": 4,
 "nbformat_minor": 4
}
